{
 "cells": [
  {
   "cell_type": "markdown",
   "metadata": {},
   "source": [
    "# Data analysis and modeling"
   ]
  },
  {
   "cell_type": "markdown",
   "metadata": {},
   "source": [
    "This task involves analysing a dataset which is composed of 9 features (\"name\", \"age\", \"lifestyle\",\"zip code\", \"family status\", \"car\", \"sports\", \"earnings\" and \"Living) collected for a certain population. This data is modeled to predict a response of a population in question. The reaction of an individual is either \"response\" or \"no response\". \n",
    "\n",
    "This is a classic binary classification problem with labels having binary values; '1' or '0'.   "
   ]
  },
  {
   "cell_type": "code",
   "execution_count": 1,
   "metadata": {},
   "outputs": [
    {
     "name": "stderr",
     "output_type": "stream",
     "text": [
      "/Users/Srinath/anaconda/lib/python3.6/site-packages/ipykernel_launcher.py:5: FutureWarning: pandas.util.testing is deprecated. Use the functions in the public API at pandas.testing instead.\n",
      "  \"\"\"\n"
     ]
    }
   ],
   "source": [
    "import numpy as np\n",
    "import matplotlib.pyplot as plt\n",
    "%matplotlib inline\n",
    "import pandas as pd\n",
    "import pandas.util.testing as tm\n",
    "import os\n",
    "import seaborn as sns\n",
    "sns.set(style=\"ticks\", color_codes=True)\n",
    "import warnings"
   ]
  },
  {
   "cell_type": "markdown",
   "metadata": {},
   "source": [
    "### Fetching data"
   ]
  },
  {
   "cell_type": "code",
   "execution_count": 2,
   "metadata": {},
   "outputs": [
    {
     "data": {
      "text/html": [
       "<div>\n",
       "<style scoped>\n",
       "    .dataframe tbody tr th:only-of-type {\n",
       "        vertical-align: middle;\n",
       "    }\n",
       "\n",
       "    .dataframe tbody tr th {\n",
       "        vertical-align: top;\n",
       "    }\n",
       "\n",
       "    .dataframe thead th {\n",
       "        text-align: right;\n",
       "    }\n",
       "</style>\n",
       "<table border=\"1\" class=\"dataframe\">\n",
       "  <thead>\n",
       "    <tr style=\"text-align: right;\">\n",
       "      <th></th>\n",
       "      <th>name</th>\n",
       "      <th>age</th>\n",
       "      <th>lifestyle</th>\n",
       "      <th>zip code</th>\n",
       "      <th>family status</th>\n",
       "      <th>car</th>\n",
       "      <th>sports</th>\n",
       "      <th>earnings</th>\n",
       "      <th>label</th>\n",
       "      <th>Living area</th>\n",
       "    </tr>\n",
       "  </thead>\n",
       "  <tbody>\n",
       "    <tr>\n",
       "      <th>0</th>\n",
       "      <td>VnSEFOuL</td>\n",
       "      <td>62.0</td>\n",
       "      <td>cozily</td>\n",
       "      <td>50168.0</td>\n",
       "      <td>married</td>\n",
       "      <td>practical</td>\n",
       "      <td>athletics</td>\n",
       "      <td>102526.0</td>\n",
       "      <td>no response</td>\n",
       "      <td>urban</td>\n",
       "    </tr>\n",
       "    <tr>\n",
       "      <th>1</th>\n",
       "      <td>8Tv0hcce</td>\n",
       "      <td>34.0</td>\n",
       "      <td>active</td>\n",
       "      <td>66479.0</td>\n",
       "      <td>married</td>\n",
       "      <td>expensive</td>\n",
       "      <td>soccer</td>\n",
       "      <td>33006.0</td>\n",
       "      <td>no response</td>\n",
       "      <td>urban</td>\n",
       "    </tr>\n",
       "    <tr>\n",
       "      <th>2</th>\n",
       "      <td>Zny9ysbk</td>\n",
       "      <td>69.0</td>\n",
       "      <td>healthy</td>\n",
       "      <td>16592.0</td>\n",
       "      <td>single</td>\n",
       "      <td>expensive</td>\n",
       "      <td>badminton</td>\n",
       "      <td>118760.0</td>\n",
       "      <td>response</td>\n",
       "      <td>urban</td>\n",
       "    </tr>\n",
       "    <tr>\n",
       "      <th>3</th>\n",
       "      <td>HV3xCamM</td>\n",
       "      <td>57.0</td>\n",
       "      <td>cozily</td>\n",
       "      <td>50068.0</td>\n",
       "      <td>married</td>\n",
       "      <td>practical</td>\n",
       "      <td>soccer</td>\n",
       "      <td>131429.0</td>\n",
       "      <td>response</td>\n",
       "      <td>urban</td>\n",
       "    </tr>\n",
       "    <tr>\n",
       "      <th>4</th>\n",
       "      <td>sflRsQ6v</td>\n",
       "      <td>66.0</td>\n",
       "      <td>cozily</td>\n",
       "      <td>35988.0</td>\n",
       "      <td>single</td>\n",
       "      <td>practical</td>\n",
       "      <td>badminton</td>\n",
       "      <td>96003.0</td>\n",
       "      <td>response</td>\n",
       "      <td>urban</td>\n",
       "    </tr>\n",
       "  </tbody>\n",
       "</table>\n",
       "</div>"
      ],
      "text/plain": [
       "       name   age lifestyle  zip code family status        car     sports  \\\n",
       "0  VnSEFOuL  62.0    cozily   50168.0       married  practical  athletics   \n",
       "1  8Tv0hcce  34.0    active   66479.0       married  expensive     soccer   \n",
       "2  Zny9ysbk  69.0   healthy   16592.0        single  expensive  badminton   \n",
       "3  HV3xCamM  57.0    cozily   50068.0       married  practical     soccer   \n",
       "4  sflRsQ6v  66.0    cozily   35988.0        single  practical  badminton   \n",
       "\n",
       "   earnings        label Living area  \n",
       "0  102526.0  no response       urban  \n",
       "1   33006.0  no response       urban  \n",
       "2  118760.0     response       urban  \n",
       "3  131429.0     response       urban  \n",
       "4   96003.0     response       urban  "
      ]
     },
     "execution_count": 2,
     "metadata": {},
     "output_type": "execute_result"
    }
   ],
   "source": [
    "data = pd.read_csv('Recruiting_Task_InputData.csv')\n",
    "data.head()"
   ]
  },
  {
   "cell_type": "code",
   "execution_count": 3,
   "metadata": {},
   "outputs": [
    {
     "name": "stdout",
     "output_type": "stream",
     "text": [
      "<class 'pandas.core.frame.DataFrame'>\n",
      "RangeIndex: 10000 entries, 0 to 9999\n",
      "Data columns (total 10 columns):\n",
      " #   Column         Non-Null Count  Dtype  \n",
      "---  ------         --------------  -----  \n",
      " 0   name           10000 non-null  object \n",
      " 1   age            10000 non-null  float64\n",
      " 2   lifestyle      10000 non-null  object \n",
      " 3   zip code       10000 non-null  float64\n",
      " 4   family status  10000 non-null  object \n",
      " 5   car            10000 non-null  object \n",
      " 6   sports         8500 non-null   object \n",
      " 7   earnings       10000 non-null  float64\n",
      " 8   label          10000 non-null  object \n",
      " 9   Living area    10000 non-null  object \n",
      "dtypes: float64(3), object(7)\n",
      "memory usage: 781.4+ KB\n"
     ]
    }
   ],
   "source": [
    "data.info()"
   ]
  },
  {
   "cell_type": "markdown",
   "metadata": {},
   "source": [
    "### Viewing data"
   ]
  },
  {
   "cell_type": "markdown",
   "metadata": {},
   "source": [
    "Checking the categorical attributes and the number of individuals belonging to each category"
   ]
  },
  {
   "cell_type": "code",
   "execution_count": 4,
   "metadata": {},
   "outputs": [
    {
     "data": {
      "text/plain": [
       "False"
      ]
     },
     "execution_count": 4,
     "metadata": {},
     "output_type": "execute_result"
    }
   ],
   "source": [
    "data['name'].duplicated().any() # checking if we have records with same name"
   ]
  },
  {
   "cell_type": "code",
   "execution_count": 5,
   "metadata": {},
   "outputs": [
    {
     "data": {
      "text/plain": [
       "active     3375\n",
       "cozily     3346\n",
       "healthy    3279\n",
       "Name: lifestyle, dtype: int64"
      ]
     },
     "execution_count": 5,
     "metadata": {},
     "output_type": "execute_result"
    }
   ],
   "source": [
    "data[\"lifestyle\"].value_counts()"
   ]
  },
  {
   "cell_type": "code",
   "execution_count": 6,
   "metadata": {},
   "outputs": [
    {
     "data": {
      "text/plain": [
       "married    5032\n",
       "single     4968\n",
       "Name: family status, dtype: int64"
      ]
     },
     "execution_count": 6,
     "metadata": {},
     "output_type": "execute_result"
    }
   ],
   "source": [
    "data[\"family status\"].value_counts()"
   ]
  },
  {
   "cell_type": "code",
   "execution_count": 7,
   "metadata": {},
   "outputs": [
    {
     "data": {
      "text/plain": [
       "practical    5051\n",
       "expensive    4949\n",
       "Name: car, dtype: int64"
      ]
     },
     "execution_count": 7,
     "metadata": {},
     "output_type": "execute_result"
    }
   ],
   "source": [
    "data[\"car\"].value_counts()"
   ]
  },
  {
   "cell_type": "code",
   "execution_count": 8,
   "metadata": {},
   "outputs": [
    {
     "data": {
      "text/plain": [
       "athletics    2853\n",
       "badminton    2828\n",
       "soccer       2819\n",
       "Name: sports, dtype: int64"
      ]
     },
     "execution_count": 8,
     "metadata": {},
     "output_type": "execute_result"
    }
   ],
   "source": [
    "data[\"sports\"].value_counts()"
   ]
  },
  {
   "cell_type": "code",
   "execution_count": 9,
   "metadata": {},
   "outputs": [
    {
     "data": {
      "text/plain": [
       "urban    6300\n",
       "rural    3700\n",
       "Name: Living area, dtype: int64"
      ]
     },
     "execution_count": 9,
     "metadata": {},
     "output_type": "execute_result"
    }
   ],
   "source": [
    "data[\"Living area\"].value_counts()"
   ]
  },
  {
   "cell_type": "code",
   "execution_count": 10,
   "metadata": {},
   "outputs": [
    {
     "data": {
      "text/plain": [
       "no response    6640\n",
       "response       3360\n",
       "Name: label, dtype: int64"
      ]
     },
     "execution_count": 10,
     "metadata": {},
     "output_type": "execute_result"
    }
   ],
   "source": [
    "# Reaction/Label\n",
    "data[\"label\"].value_counts()"
   ]
  },
  {
   "cell_type": "code",
   "execution_count": 11,
   "metadata": {},
   "outputs": [
    {
     "data": {
      "text/html": [
       "<div>\n",
       "<style scoped>\n",
       "    .dataframe tbody tr th:only-of-type {\n",
       "        vertical-align: middle;\n",
       "    }\n",
       "\n",
       "    .dataframe tbody tr th {\n",
       "        vertical-align: top;\n",
       "    }\n",
       "\n",
       "    .dataframe thead th {\n",
       "        text-align: right;\n",
       "    }\n",
       "</style>\n",
       "<table border=\"1\" class=\"dataframe\">\n",
       "  <thead>\n",
       "    <tr style=\"text-align: right;\">\n",
       "      <th></th>\n",
       "      <th>age</th>\n",
       "      <th>zip code</th>\n",
       "      <th>earnings</th>\n",
       "    </tr>\n",
       "  </thead>\n",
       "  <tbody>\n",
       "    <tr>\n",
       "      <th>count</th>\n",
       "      <td>10000.000000</td>\n",
       "      <td>10000.000000</td>\n",
       "      <td>10000.000000</td>\n",
       "    </tr>\n",
       "    <tr>\n",
       "      <th>mean</th>\n",
       "      <td>42.090700</td>\n",
       "      <td>55227.270600</td>\n",
       "      <td>85337.799600</td>\n",
       "    </tr>\n",
       "    <tr>\n",
       "      <th>std</th>\n",
       "      <td>15.874416</td>\n",
       "      <td>26139.756227</td>\n",
       "      <td>37554.523323</td>\n",
       "    </tr>\n",
       "    <tr>\n",
       "      <th>min</th>\n",
       "      <td>15.000000</td>\n",
       "      <td>10003.000000</td>\n",
       "      <td>20006.000000</td>\n",
       "    </tr>\n",
       "    <tr>\n",
       "      <th>25%</th>\n",
       "      <td>28.000000</td>\n",
       "      <td>32708.250000</td>\n",
       "      <td>53237.250000</td>\n",
       "    </tr>\n",
       "    <tr>\n",
       "      <th>50%</th>\n",
       "      <td>42.000000</td>\n",
       "      <td>55290.000000</td>\n",
       "      <td>85617.500000</td>\n",
       "    </tr>\n",
       "    <tr>\n",
       "      <th>75%</th>\n",
       "      <td>56.000000</td>\n",
       "      <td>77967.750000</td>\n",
       "      <td>118111.000000</td>\n",
       "    </tr>\n",
       "    <tr>\n",
       "      <th>max</th>\n",
       "      <td>69.000000</td>\n",
       "      <td>99982.000000</td>\n",
       "      <td>149975.000000</td>\n",
       "    </tr>\n",
       "  </tbody>\n",
       "</table>\n",
       "</div>"
      ],
      "text/plain": [
       "                age      zip code       earnings\n",
       "count  10000.000000  10000.000000   10000.000000\n",
       "mean      42.090700  55227.270600   85337.799600\n",
       "std       15.874416  26139.756227   37554.523323\n",
       "min       15.000000  10003.000000   20006.000000\n",
       "25%       28.000000  32708.250000   53237.250000\n",
       "50%       42.000000  55290.000000   85617.500000\n",
       "75%       56.000000  77967.750000  118111.000000\n",
       "max       69.000000  99982.000000  149975.000000"
      ]
     },
     "execution_count": 11,
     "metadata": {},
     "output_type": "execute_result"
    }
   ],
   "source": [
    "data.describe() # checking the summary of numerical attributes for inconsitency"
   ]
  },
  {
   "cell_type": "code",
   "execution_count": 12,
   "metadata": {
    "scrolled": false
   },
   "outputs": [
    {
     "data": {
      "image/png": "[encoded data removed]",
      "text/plain": [
       "<Figure size 1440x720 with 4 Axes>"
      ]
     },
     "metadata": {},
     "output_type": "display_data"
    }
   ],
   "source": [
    "data.hist(bins=50, figsize=(20,10)) \n",
    "plt.show()"
   ]
  },
  {
   "cell_type": "markdown",
   "metadata": {},
   "source": [
    "We can visualize the data to find correlations if any between the features. "
   ]
  },
  {
   "cell_type": "code",
   "execution_count": 13,
   "metadata": {},
   "outputs": [
    {
     "data": {
      "image/png": "[encoded data removed]",
      "text/plain": [
       "<Figure size 432x288 with 1 Axes>"
      ]
     },
     "metadata": {},
     "output_type": "display_data"
    }
   ],
   "source": [
    "sns.scatterplot(x=\"age\", y=\"earnings\",data=data)\n"
   ]
  },
  {
   "cell_type": "code",
   "execution_count": 14,
   "metadata": {},
   "outputs": [
    {
     "data": {
      "image/png": "[encoded data removed]",
      "text/plain": [
       "<Figure size 360x360 with 1 Axes>"
      ]
     },
     "metadata": {},
     "output_type": "display_data"
    }
   ],
   "source": [
    "sns.catplot(x=\"Living area\", y=\"earnings\", data=data)\n"
   ]
  },
  {
   "cell_type": "code",
   "execution_count": 15,
   "metadata": {},
   "outputs": [
    {
     "data": {
      "image/png": "[encoded data removed]",
      "text/plain": [
       "<Figure size 360x360 with 1 Axes>"
      ]
     },
     "metadata": {},
     "output_type": "display_data"
    }
   ],
   "source": [
    "sns.catplot(x=\"Living area\", y=\"zip code\", data=data)\n"
   ]
  },
  {
   "cell_type": "code",
   "execution_count": 16,
   "metadata": {},
   "outputs": [
    {
     "data": {
      "image/png": "[encoded data removed]",
      "text/plain": [
       "<Figure size 432x288 with 1 Axes>"
      ]
     },
     "metadata": {},
     "output_type": "display_data"
    }
   ],
   "source": [
    "sns.scatterplot(x=\"zip code\", y=\"earnings\",data=data)\n"
   ]
  },
  {
   "cell_type": "code",
   "execution_count": 17,
   "metadata": {},
   "outputs": [],
   "source": [
    "corr_matrix = data.corr()"
   ]
  },
  {
   "cell_type": "code",
   "execution_count": 18,
   "metadata": {},
   "outputs": [
    {
     "data": {
      "text/plain": [
       "earnings    1.000000\n",
       "age         0.002031\n",
       "zip code   -0.004595\n",
       "Name: earnings, dtype: float64"
      ]
     },
     "execution_count": 18,
     "metadata": {},
     "output_type": "execute_result"
    }
   ],
   "source": [
    "corr_matrix[\"earnings\"].sort_values(ascending=False)"
   ]
  },
  {
   "cell_type": "markdown",
   "metadata": {},
   "source": [
    "It seems like the data is mostly uniformly distributed across all values for the numerical attributes."
   ]
  },
  {
   "cell_type": "markdown",
   "metadata": {},
   "source": [
    "From the visualizations above, we couldnt see any correlation patterns between age and earnings. The data seem to be distributed equally across different combinations of age and earnings. It is highly probable that the data is generated artificially. Hence, the model built with this data might not be useful for making predcitions with real world data. "
   ]
  },
  {
   "cell_type": "markdown",
   "metadata": {},
   "source": [
    "Also, we  have to note that zip code cannot be treated like a numerical attribute although they have numerical values. Hence, we convert the zip codes to strings to not let the feature mistrain the model. Now zip code column being a categorical attribute can cause feature explosion if one-hot encoded. Hence, we try to slice the zip code column, retaining the first 2 digits with an assumption that zip codes having same first 2 digits are closer/near-by. "
   ]
  },
  {
   "cell_type": "code",
   "execution_count": 19,
   "metadata": {},
   "outputs": [],
   "source": [
    "data[\"zip code\"] = data[\"zip code\"].astype(str)"
   ]
  },
  {
   "cell_type": "code",
   "execution_count": 20,
   "metadata": {},
   "outputs": [
    {
     "name": "stdout",
     "output_type": "stream",
     "text": [
      "Unique zip codes in data: 90\n",
      "Unique sliced zip codes in training data: 90\n"
     ]
    }
   ],
   "source": [
    "print(\"Unique zip codes in data:\",data[\"zip code\"].str[:2].nunique())\n",
    "np.sort(data[\"zip code\"].str[:2].unique())\n",
    "data[\"zip_code_sliced\"] = data[\"zip code\"].str[:2]\n",
    "print(\"Unique sliced zip codes in training data:\",data[\"zip_code_sliced\"].nunique())"
   ]
  },
  {
   "cell_type": "code",
   "execution_count": 21,
   "metadata": {},
   "outputs": [
    {
     "name": "stdout",
     "output_type": "stream",
     "text": [
      "<class 'pandas.core.frame.DataFrame'>\n",
      "RangeIndex: 10000 entries, 0 to 9999\n",
      "Data columns (total 11 columns):\n",
      " #   Column           Non-Null Count  Dtype  \n",
      "---  ------           --------------  -----  \n",
      " 0   name             10000 non-null  object \n",
      " 1   age              10000 non-null  float64\n",
      " 2   lifestyle        10000 non-null  object \n",
      " 3   zip code         10000 non-null  object \n",
      " 4   family status    10000 non-null  object \n",
      " 5   car              10000 non-null  object \n",
      " 6   sports           8500 non-null   object \n",
      " 7   earnings         10000 non-null  float64\n",
      " 8   label            10000 non-null  object \n",
      " 9   Living area      10000 non-null  object \n",
      " 10  zip_code_sliced  10000 non-null  object \n",
      "dtypes: float64(2), object(9)\n",
      "memory usage: 859.5+ KB\n"
     ]
    }
   ],
   "source": [
    "data.info()"
   ]
  },
  {
   "cell_type": "code",
   "execution_count": 22,
   "metadata": {
    "scrolled": true
   },
   "outputs": [],
   "source": [
    "data = data.drop(['zip code'],axis=1)"
   ]
  },
  {
   "cell_type": "code",
   "execution_count": 23,
   "metadata": {
    "scrolled": true
   },
   "outputs": [
    {
     "name": "stdout",
     "output_type": "stream",
     "text": [
      "<class 'pandas.core.frame.DataFrame'>\n",
      "RangeIndex: 10000 entries, 0 to 9999\n",
      "Data columns (total 10 columns):\n",
      " #   Column           Non-Null Count  Dtype  \n",
      "---  ------           --------------  -----  \n",
      " 0   name             10000 non-null  object \n",
      " 1   age              10000 non-null  float64\n",
      " 2   lifestyle        10000 non-null  object \n",
      " 3   family status    10000 non-null  object \n",
      " 4   car              10000 non-null  object \n",
      " 5   sports           8500 non-null   object \n",
      " 6   earnings         10000 non-null  float64\n",
      " 7   label            10000 non-null  object \n",
      " 8   Living area      10000 non-null  object \n",
      " 9   zip_code_sliced  10000 non-null  object \n",
      "dtypes: float64(2), object(8)\n",
      "memory usage: 781.4+ KB\n"
     ]
    }
   ],
   "source": [
    "data.info()"
   ]
  },
  {
   "cell_type": "code",
   "execution_count": 24,
   "metadata": {},
   "outputs": [
    {
     "data": {
      "text/html": [
       "<div>\n",
       "<style scoped>\n",
       "    .dataframe tbody tr th:only-of-type {\n",
       "        vertical-align: middle;\n",
       "    }\n",
       "\n",
       "    .dataframe tbody tr th {\n",
       "        vertical-align: top;\n",
       "    }\n",
       "\n",
       "    .dataframe thead th {\n",
       "        text-align: right;\n",
       "    }\n",
       "</style>\n",
       "<table border=\"1\" class=\"dataframe\">\n",
       "  <thead>\n",
       "    <tr style=\"text-align: right;\">\n",
       "      <th></th>\n",
       "      <th>name</th>\n",
       "      <th>age</th>\n",
       "      <th>lifestyle</th>\n",
       "      <th>family status</th>\n",
       "      <th>car</th>\n",
       "      <th>sports</th>\n",
       "      <th>earnings</th>\n",
       "      <th>label</th>\n",
       "      <th>Living area</th>\n",
       "      <th>zip_code_sliced</th>\n",
       "    </tr>\n",
       "  </thead>\n",
       "  <tbody>\n",
       "    <tr>\n",
       "      <th>0</th>\n",
       "      <td>VnSEFOuL</td>\n",
       "      <td>62.0</td>\n",
       "      <td>cozily</td>\n",
       "      <td>married</td>\n",
       "      <td>practical</td>\n",
       "      <td>athletics</td>\n",
       "      <td>102526.0</td>\n",
       "      <td>no response</td>\n",
       "      <td>urban</td>\n",
       "      <td>50</td>\n",
       "    </tr>\n",
       "    <tr>\n",
       "      <th>1</th>\n",
       "      <td>8Tv0hcce</td>\n",
       "      <td>34.0</td>\n",
       "      <td>active</td>\n",
       "      <td>married</td>\n",
       "      <td>expensive</td>\n",
       "      <td>soccer</td>\n",
       "      <td>33006.0</td>\n",
       "      <td>no response</td>\n",
       "      <td>urban</td>\n",
       "      <td>66</td>\n",
       "    </tr>\n",
       "    <tr>\n",
       "      <th>2</th>\n",
       "      <td>Zny9ysbk</td>\n",
       "      <td>69.0</td>\n",
       "      <td>healthy</td>\n",
       "      <td>single</td>\n",
       "      <td>expensive</td>\n",
       "      <td>badminton</td>\n",
       "      <td>118760.0</td>\n",
       "      <td>response</td>\n",
       "      <td>urban</td>\n",
       "      <td>16</td>\n",
       "    </tr>\n",
       "    <tr>\n",
       "      <th>3</th>\n",
       "      <td>HV3xCamM</td>\n",
       "      <td>57.0</td>\n",
       "      <td>cozily</td>\n",
       "      <td>married</td>\n",
       "      <td>practical</td>\n",
       "      <td>soccer</td>\n",
       "      <td>131429.0</td>\n",
       "      <td>response</td>\n",
       "      <td>urban</td>\n",
       "      <td>50</td>\n",
       "    </tr>\n",
       "    <tr>\n",
       "      <th>4</th>\n",
       "      <td>sflRsQ6v</td>\n",
       "      <td>66.0</td>\n",
       "      <td>cozily</td>\n",
       "      <td>single</td>\n",
       "      <td>practical</td>\n",
       "      <td>badminton</td>\n",
       "      <td>96003.0</td>\n",
       "      <td>response</td>\n",
       "      <td>urban</td>\n",
       "      <td>35</td>\n",
       "    </tr>\n",
       "  </tbody>\n",
       "</table>\n",
       "</div>"
      ],
      "text/plain": [
       "       name   age lifestyle family status        car     sports  earnings  \\\n",
       "0  VnSEFOuL  62.0    cozily       married  practical  athletics  102526.0   \n",
       "1  8Tv0hcce  34.0    active       married  expensive     soccer   33006.0   \n",
       "2  Zny9ysbk  69.0   healthy        single  expensive  badminton  118760.0   \n",
       "3  HV3xCamM  57.0    cozily       married  practical     soccer  131429.0   \n",
       "4  sflRsQ6v  66.0    cozily        single  practical  badminton   96003.0   \n",
       "\n",
       "         label Living area zip_code_sliced  \n",
       "0  no response       urban              50  \n",
       "1  no response       urban              66  \n",
       "2     response       urban              16  \n",
       "3     response       urban              50  \n",
       "4     response       urban              35  "
      ]
     },
     "execution_count": 24,
     "metadata": {},
     "output_type": "execute_result"
    }
   ],
   "source": [
    "data.head()"
   ]
  },
  {
   "cell_type": "code",
   "execution_count": 25,
   "metadata": {},
   "outputs": [
    {
     "data": {
      "text/plain": [
       "(10000, 10)"
      ]
     },
     "execution_count": 25,
     "metadata": {},
     "output_type": "execute_result"
    }
   ],
   "source": [
    "data.shape"
   ]
  },
  {
   "cell_type": "code",
   "execution_count": 26,
   "metadata": {
    "scrolled": true
   },
   "outputs": [
    {
     "data": {
      "text/plain": [
       "array(['10', '11', '12', '13', '14', '15', '16', '17', '18', '19', '20',\n",
       "       '21', '22', '23', '24', '25', '26', '27', '28', '29', '30', '31',\n",
       "       '32', '33', '34', '35', '36', '37', '38', '39', '40', '41', '42',\n",
       "       '43', '44', '45', '46', '47', '48', '49', '50', '51', '52', '53',\n",
       "       '54', '55', '56', '57', '58', '59', '60', '61', '62', '63', '64',\n",
       "       '65', '66', '67', '68', '69', '70', '71', '72', '73', '74', '75',\n",
       "       '76', '77', '78', '79', '80', '81', '82', '83', '84', '85', '86',\n",
       "       '87', '88', '89', '90', '91', '92', '93', '94', '95', '96', '97',\n",
       "       '98', '99'], dtype=object)"
      ]
     },
     "execution_count": 26,
     "metadata": {},
     "output_type": "execute_result"
    }
   ],
   "source": [
    "np.sort(data[\"zip_code_sliced\"].unique())"
   ]
  },
  {
   "cell_type": "code",
   "execution_count": 27,
   "metadata": {},
   "outputs": [
    {
     "data": {
      "text/plain": [
       "(10000, 90)"
      ]
     },
     "execution_count": 27,
     "metadata": {},
     "output_type": "execute_result"
    }
   ],
   "source": [
    "zip_dummies = pd.get_dummies(data[\"zip_code_sliced\"],prefix='zip')\n",
    "zip_dummies.shape"
   ]
  },
  {
   "cell_type": "code",
   "execution_count": 28,
   "metadata": {},
   "outputs": [
    {
     "data": {
      "text/plain": [
       "(10000, 100)"
      ]
     },
     "execution_count": 28,
     "metadata": {},
     "output_type": "execute_result"
    }
   ],
   "source": [
    "data_new = pd.concat([data,zip_dummies],axis=1)\n",
    "data_new.shape"
   ]
  },
  {
   "cell_type": "code",
   "execution_count": 29,
   "metadata": {
    "scrolled": true
   },
   "outputs": [],
   "source": [
    "data_new = data_new.drop([\"zip_code_sliced\"],axis=1)"
   ]
  },
  {
   "cell_type": "code",
   "execution_count": 30,
   "metadata": {},
   "outputs": [
    {
     "name": "stdout",
     "output_type": "stream",
     "text": [
      "<class 'pandas.core.frame.DataFrame'>\n",
      "RangeIndex: 10000 entries, 0 to 9999\n",
      "Data columns (total 99 columns):\n",
      " #   Column         Non-Null Count  Dtype  \n",
      "---  ------         --------------  -----  \n",
      " 0   name           10000 non-null  object \n",
      " 1   age            10000 non-null  float64\n",
      " 2   lifestyle      10000 non-null  object \n",
      " 3   family status  10000 non-null  object \n",
      " 4   car            10000 non-null  object \n",
      " 5   sports         8500 non-null   object \n",
      " 6   earnings       10000 non-null  float64\n",
      " 7   label          10000 non-null  object \n",
      " 8   Living area    10000 non-null  object \n",
      " 9   zip_10         10000 non-null  uint8  \n",
      " 10  zip_11         10000 non-null  uint8  \n",
      " 11  zip_12         10000 non-null  uint8  \n",
      " 12  zip_13         10000 non-null  uint8  \n",
      " 13  zip_14         10000 non-null  uint8  \n",
      " 14  zip_15         10000 non-null  uint8  \n",
      " 15  zip_16         10000 non-null  uint8  \n",
      " 16  zip_17         10000 non-null  uint8  \n",
      " 17  zip_18         10000 non-null  uint8  \n",
      " 18  zip_19         10000 non-null  uint8  \n",
      " 19  zip_20         10000 non-null  uint8  \n",
      " 20  zip_21         10000 non-null  uint8  \n",
      " 21  zip_22         10000 non-null  uint8  \n",
      " 22  zip_23         10000 non-null  uint8  \n",
      " 23  zip_24         10000 non-null  uint8  \n",
      " 24  zip_25         10000 non-null  uint8  \n",
      " 25  zip_26         10000 non-null  uint8  \n",
      " 26  zip_27         10000 non-null  uint8  \n",
      " 27  zip_28         10000 non-null  uint8  \n",
      " 28  zip_29         10000 non-null  uint8  \n",
      " 29  zip_30         10000 non-null  uint8  \n",
      " 30  zip_31         10000 non-null  uint8  \n",
      " 31  zip_32         10000 non-null  uint8  \n",
      " 32  zip_33         10000 non-null  uint8  \n",
      " 33  zip_34         10000 non-null  uint8  \n",
      " 34  zip_35         10000 non-null  uint8  \n",
      " 35  zip_36         10000 non-null  uint8  \n",
      " 36  zip_37         10000 non-null  uint8  \n",
      " 37  zip_38         10000 non-null  uint8  \n",
      " 38  zip_39         10000 non-null  uint8  \n",
      " 39  zip_40         10000 non-null  uint8  \n",
      " 40  zip_41         10000 non-null  uint8  \n",
      " 41  zip_42         10000 non-null  uint8  \n",
      " 42  zip_43         10000 non-null  uint8  \n",
      " 43  zip_44         10000 non-null  uint8  \n",
      " 44  zip_45         10000 non-null  uint8  \n",
      " 45  zip_46         10000 non-null  uint8  \n",
      " 46  zip_47         10000 non-null  uint8  \n",
      " 47  zip_48         10000 non-null  uint8  \n",
      " 48  zip_49         10000 non-null  uint8  \n",
      " 49  zip_50         10000 non-null  uint8  \n",
      " 50  zip_51         10000 non-null  uint8  \n",
      " 51  zip_52         10000 non-null  uint8  \n",
      " 52  zip_53         10000 non-null  uint8  \n",
      " 53  zip_54         10000 non-null  uint8  \n",
      " 54  zip_55         10000 non-null  uint8  \n",
      " 55  zip_56         10000 non-null  uint8  \n",
      " 56  zip_57         10000 non-null  uint8  \n",
      " 57  zip_58         10000 non-null  uint8  \n",
      " 58  zip_59         10000 non-null  uint8  \n",
      " 59  zip_60         10000 non-null  uint8  \n",
      " 60  zip_61         10000 non-null  uint8  \n",
      " 61  zip_62         10000 non-null  uint8  \n",
      " 62  zip_63         10000 non-null  uint8  \n",
      " 63  zip_64         10000 non-null  uint8  \n",
      " 64  zip_65         10000 non-null  uint8  \n",
      " 65  zip_66         10000 non-null  uint8  \n",
      " 66  zip_67         10000 non-null  uint8  \n",
      " 67  zip_68         10000 non-null  uint8  \n",
      " 68  zip_69         10000 non-null  uint8  \n",
      " 69  zip_70         10000 non-null  uint8  \n",
      " 70  zip_71         10000 non-null  uint8  \n",
      " 71  zip_72         10000 non-null  uint8  \n",
      " 72  zip_73         10000 non-null  uint8  \n",
      " 73  zip_74         10000 non-null  uint8  \n",
      " 74  zip_75         10000 non-null  uint8  \n",
      " 75  zip_76         10000 non-null  uint8  \n",
      " 76  zip_77         10000 non-null  uint8  \n",
      " 77  zip_78         10000 non-null  uint8  \n",
      " 78  zip_79         10000 non-null  uint8  \n",
      " 79  zip_80         10000 non-null  uint8  \n",
      " 80  zip_81         10000 non-null  uint8  \n",
      " 81  zip_82         10000 non-null  uint8  \n",
      " 82  zip_83         10000 non-null  uint8  \n",
      " 83  zip_84         10000 non-null  uint8  \n",
      " 84  zip_85         10000 non-null  uint8  \n",
      " 85  zip_86         10000 non-null  uint8  \n",
      " 86  zip_87         10000 non-null  uint8  \n",
      " 87  zip_88         10000 non-null  uint8  \n",
      " 88  zip_89         10000 non-null  uint8  \n",
      " 89  zip_90         10000 non-null  uint8  \n",
      " 90  zip_91         10000 non-null  uint8  \n",
      " 91  zip_92         10000 non-null  uint8  \n",
      " 92  zip_93         10000 non-null  uint8  \n",
      " 93  zip_94         10000 non-null  uint8  \n",
      " 94  zip_95         10000 non-null  uint8  \n",
      " 95  zip_96         10000 non-null  uint8  \n",
      " 96  zip_97         10000 non-null  uint8  \n",
      " 97  zip_98         10000 non-null  uint8  \n",
      " 98  zip_99         10000 non-null  uint8  \n",
      "dtypes: float64(2), object(7), uint8(90)\n",
      "memory usage: 1.5+ MB\n"
     ]
    }
   ],
   "source": [
    "data_new.info()"
   ]
  },
  {
   "cell_type": "markdown",
   "metadata": {},
   "source": [
    "### Creating test set"
   ]
  },
  {
   "cell_type": "code",
   "execution_count": 31,
   "metadata": {},
   "outputs": [],
   "source": [
    "from sklearn.model_selection import train_test_split\n",
    "train_set, test_set = train_test_split(data_new, test_size=0.20, random_state=32)"
   ]
  },
  {
   "cell_type": "code",
   "execution_count": 32,
   "metadata": {},
   "outputs": [
    {
     "data": {
      "text/plain": [
       "(8000, 99)"
      ]
     },
     "execution_count": 32,
     "metadata": {},
     "output_type": "execute_result"
    }
   ],
   "source": [
    "train_set.shape"
   ]
  },
  {
   "cell_type": "code",
   "execution_count": 33,
   "metadata": {
    "scrolled": true
   },
   "outputs": [
    {
     "data": {
      "text/plain": [
       "(2000, 99)"
      ]
     },
     "execution_count": 33,
     "metadata": {},
     "output_type": "execute_result"
    }
   ],
   "source": [
    "test_set.shape"
   ]
  },
  {
   "cell_type": "markdown",
   "metadata": {},
   "source": [
    "### Checking for null values"
   ]
  },
  {
   "cell_type": "code",
   "execution_count": 34,
   "metadata": {
    "scrolled": true
   },
   "outputs": [
    {
     "data": {
      "text/plain": [
       "name             False\n",
       "age              False\n",
       "lifestyle        False\n",
       "family status    False\n",
       "car              False\n",
       "                 ...  \n",
       "zip_95           False\n",
       "zip_96           False\n",
       "zip_97           False\n",
       "zip_98           False\n",
       "zip_99           False\n",
       "Length: 99, dtype: bool"
      ]
     },
     "execution_count": 34,
     "metadata": {},
     "output_type": "execute_result"
    }
   ],
   "source": [
    "train_set.isnull().any()\n"
   ]
  },
  {
   "cell_type": "code",
   "execution_count": 35,
   "metadata": {},
   "outputs": [
    {
     "data": {
      "text/plain": [
       "1207"
      ]
     },
     "execution_count": 35,
     "metadata": {},
     "output_type": "execute_result"
    }
   ],
   "source": [
    "train_set[\"sports\"].isnull().sum()"
   ]
  },
  {
   "cell_type": "code",
   "execution_count": 36,
   "metadata": {},
   "outputs": [
    {
     "data": {
      "text/plain": [
       "array([False,  True])"
      ]
     },
     "execution_count": 36,
     "metadata": {},
     "output_type": "execute_result"
    }
   ],
   "source": [
    "train_set[\"sports\"].isnull().unique()"
   ]
  },
  {
   "cell_type": "code",
   "execution_count": 37,
   "metadata": {},
   "outputs": [
    {
     "data": {
      "text/plain": [
       "SimpleImputer(copy=True, fill_value=None, missing_values=nan,\n",
       "       strategy='most_frequent', verbose=0)"
      ]
     },
     "execution_count": 37,
     "metadata": {},
     "output_type": "execute_result"
    }
   ],
   "source": [
    "from sklearn.impute import SimpleImputer\n",
    "imputer = SimpleImputer(strategy=\"most_frequent\")\n",
    "imputer.fit(train_set)"
   ]
  },
  {
   "cell_type": "code",
   "execution_count": 38,
   "metadata": {},
   "outputs": [],
   "source": [
    "X = imputer.transform(train_set)"
   ]
  },
  {
   "cell_type": "code",
   "execution_count": 39,
   "metadata": {},
   "outputs": [],
   "source": [
    "train_set=pd.DataFrame(X,columns=train_set.columns)"
   ]
  },
  {
   "cell_type": "code",
   "execution_count": 40,
   "metadata": {},
   "outputs": [
    {
     "data": {
      "text/plain": [
       "array([False])"
      ]
     },
     "execution_count": 40,
     "metadata": {},
     "output_type": "execute_result"
    }
   ],
   "source": [
    "train_set[\"sports\"].isnull().unique()"
   ]
  },
  {
   "cell_type": "code",
   "execution_count": 41,
   "metadata": {},
   "outputs": [
    {
     "data": {
      "text/plain": [
       "name             False\n",
       "age              False\n",
       "lifestyle        False\n",
       "family status    False\n",
       "car              False\n",
       "                 ...  \n",
       "zip_95           False\n",
       "zip_96           False\n",
       "zip_97           False\n",
       "zip_98           False\n",
       "zip_99           False\n",
       "Length: 99, dtype: bool"
      ]
     },
     "execution_count": 41,
     "metadata": {},
     "output_type": "execute_result"
    }
   ],
   "source": [
    "train_set.isnull().any()\n"
   ]
  },
  {
   "cell_type": "markdown",
   "metadata": {},
   "source": [
    "### Transforming numerical and categorical attributes"
   ]
  },
  {
   "cell_type": "code",
   "execution_count": 42,
   "metadata": {},
   "outputs": [
    {
     "data": {
      "text/plain": [
       "0    1\n",
       "1    0\n",
       "2    0\n",
       "3    0\n",
       "4    0\n",
       "Name: zip_16, dtype: object"
      ]
     },
     "execution_count": 42,
     "metadata": {},
     "output_type": "execute_result"
    }
   ],
   "source": [
    "train_set[\"zip_16\"].head()"
   ]
  },
  {
   "cell_type": "markdown",
   "metadata": {},
   "source": [
    "The numerical features are standardized and the categorical attributes are encoded"
   ]
  },
  {
   "cell_type": "code",
   "execution_count": 43,
   "metadata": {},
   "outputs": [],
   "source": [
    "num_attributes = [\"age\",\"earnings\"]\n",
    "cat1_attributes = [\"lifestyle\",\"sports\",\"family status\",\"car\",\"Living area\"]\n",
    "#cat2_attributes = [\"family status\",\"car\",\"Living area\"]\n",
    "other_sstr = train_set.columns[9:99].tolist()\n",
    "from sklearn.preprocessing import StandardScaler\n",
    "from sklearn.preprocessing import OneHotEncoder\n",
    "#from sklearn.preprocessing import OrdinalEncoder\n",
    "from sklearn.compose import ColumnTransformer\n",
    "full_pipe = ColumnTransformer([\n",
    "    (\"num\",StandardScaler(),num_attributes),\n",
    "    (\"cat1\",OneHotEncoder(),cat1_attributes),\n",
    "#    (\"cat2\",OrdinalEncoder(),cat2_attributes),\n",
    "    (\"other\",'passthrough',other_sstr)\n",
    "])"
   ]
  },
  {
   "cell_type": "code",
   "execution_count": 44,
   "metadata": {},
   "outputs": [
    {
     "data": {
      "text/plain": [
       "array([1.0715150249853442, 1.6939512032235484, 1.0, 0.0, 0.0, 0.0, 0.0,\n",
       "       1.0, 1.0, 0.0, 0.0, 1.0, 0.0, 1.0, 0, 0, 0, 0, 0, 0, 1, 0, 0, 0, 0,\n",
       "       0, 0, 0, 0, 0, 0, 0, 0, 0, 0, 0, 0, 0, 0, 0, 0, 0, 0, 0, 0, 0, 0,\n",
       "       0, 0, 0, 0, 0, 0, 0, 0, 0, 0, 0, 0, 0, 0, 0, 0, 0, 0, 0, 0, 0, 0,\n",
       "       0, 0, 0, 0, 0, 0, 0, 0, 0, 0, 0, 0, 0, 0, 0, 0, 0, 0, 0, 0, 0, 0,\n",
       "       0, 0, 0, 0, 0, 0, 0, 0, 0, 0, 0, 0, 0], dtype=object)"
      ]
     },
     "execution_count": 44,
     "metadata": {},
     "output_type": "execute_result"
    }
   ],
   "source": [
    "with warnings.catch_warnings():\n",
    "    # ignore all caught warnings\n",
    "    warnings.filterwarnings(\"ignore\")\n",
    "    \n",
    "    X_train = full_pipe.fit_transform(train_set)\n",
    "\n",
    "X_train[0,:]"
   ]
  },
  {
   "cell_type": "code",
   "execution_count": 45,
   "metadata": {},
   "outputs": [],
   "source": [
    "labels = [\"label\"]\n",
    "from sklearn.preprocessing import LabelEncoder\n",
    "labelencode = LabelEncoder()\n",
    "y_train = labelencode.fit_transform(train_set[\"label\"])"
   ]
  },
  {
   "cell_type": "code",
   "execution_count": 46,
   "metadata": {},
   "outputs": [
    {
     "data": {
      "text/plain": [
       "array([1, 1, 1, ..., 1, 1, 1])"
      ]
     },
     "execution_count": 46,
     "metadata": {},
     "output_type": "execute_result"
    }
   ],
   "source": [
    "y_train"
   ]
  },
  {
   "cell_type": "code",
   "execution_count": 47,
   "metadata": {},
   "outputs": [
    {
     "data": {
      "text/plain": [
       "array([0, 1])"
      ]
     },
     "execution_count": 47,
     "metadata": {},
     "output_type": "execute_result"
    }
   ],
   "source": [
    "np.unique(y_train)"
   ]
  },
  {
   "cell_type": "code",
   "execution_count": 48,
   "metadata": {},
   "outputs": [
    {
     "data": {
      "text/plain": [
       "(8000, 104)"
      ]
     },
     "execution_count": 48,
     "metadata": {},
     "output_type": "execute_result"
    }
   ],
   "source": [
    "X_train.shape"
   ]
  },
  {
   "cell_type": "code",
   "execution_count": 49,
   "metadata": {},
   "outputs": [
    {
     "data": {
      "text/plain": [
       "(8000,)"
      ]
     },
     "execution_count": 49,
     "metadata": {},
     "output_type": "execute_result"
    }
   ],
   "source": [
    "y_train.shape"
   ]
  },
  {
   "cell_type": "code",
   "execution_count": 50,
   "metadata": {},
   "outputs": [
    {
     "data": {
      "text/plain": [
       "5303"
      ]
     },
     "execution_count": 50,
     "metadata": {},
     "output_type": "execute_result"
    }
   ],
   "source": [
    "np.count_nonzero(y_train==0)"
   ]
  },
  {
   "cell_type": "code",
   "execution_count": 51,
   "metadata": {
    "scrolled": true
   },
   "outputs": [
    {
     "data": {
      "text/plain": [
       "[('num',\n",
       "  StandardScaler(copy=True, with_mean=True, with_std=True),\n",
       "  ['age', 'earnings']),\n",
       " ('cat1', OneHotEncoder(categorical_features=None, categories=None,\n",
       "         dtype=<class 'numpy.float64'>, handle_unknown='error',\n",
       "         n_values=None, sparse=True), ['lifestyle',\n",
       "   'sports',\n",
       "   'family status',\n",
       "   'car',\n",
       "   'Living area']),\n",
       " ('other',\n",
       "  'passthrough',\n",
       "  ['zip_10',\n",
       "   'zip_11',\n",
       "   'zip_12',\n",
       "   'zip_13',\n",
       "   'zip_14',\n",
       "   'zip_15',\n",
       "   'zip_16',\n",
       "   'zip_17',\n",
       "   'zip_18',\n",
       "   'zip_19',\n",
       "   'zip_20',\n",
       "   'zip_21',\n",
       "   'zip_22',\n",
       "   'zip_23',\n",
       "   'zip_24',\n",
       "   'zip_25',\n",
       "   'zip_26',\n",
       "   'zip_27',\n",
       "   'zip_28',\n",
       "   'zip_29',\n",
       "   'zip_30',\n",
       "   'zip_31',\n",
       "   'zip_32',\n",
       "   'zip_33',\n",
       "   'zip_34',\n",
       "   'zip_35',\n",
       "   'zip_36',\n",
       "   'zip_37',\n",
       "   'zip_38',\n",
       "   'zip_39',\n",
       "   'zip_40',\n",
       "   'zip_41',\n",
       "   'zip_42',\n",
       "   'zip_43',\n",
       "   'zip_44',\n",
       "   'zip_45',\n",
       "   'zip_46',\n",
       "   'zip_47',\n",
       "   'zip_48',\n",
       "   'zip_49',\n",
       "   'zip_50',\n",
       "   'zip_51',\n",
       "   'zip_52',\n",
       "   'zip_53',\n",
       "   'zip_54',\n",
       "   'zip_55',\n",
       "   'zip_56',\n",
       "   'zip_57',\n",
       "   'zip_58',\n",
       "   'zip_59',\n",
       "   'zip_60',\n",
       "   'zip_61',\n",
       "   'zip_62',\n",
       "   'zip_63',\n",
       "   'zip_64',\n",
       "   'zip_65',\n",
       "   'zip_66',\n",
       "   'zip_67',\n",
       "   'zip_68',\n",
       "   'zip_69',\n",
       "   'zip_70',\n",
       "   'zip_71',\n",
       "   'zip_72',\n",
       "   'zip_73',\n",
       "   'zip_74',\n",
       "   'zip_75',\n",
       "   'zip_76',\n",
       "   'zip_77',\n",
       "   'zip_78',\n",
       "   'zip_79',\n",
       "   'zip_80',\n",
       "   'zip_81',\n",
       "   'zip_82',\n",
       "   'zip_83',\n",
       "   'zip_84',\n",
       "   'zip_85',\n",
       "   'zip_86',\n",
       "   'zip_87',\n",
       "   'zip_88',\n",
       "   'zip_89',\n",
       "   'zip_90',\n",
       "   'zip_91',\n",
       "   'zip_92',\n",
       "   'zip_93',\n",
       "   'zip_94',\n",
       "   'zip_95',\n",
       "   'zip_96',\n",
       "   'zip_97',\n",
       "   'zip_98',\n",
       "   'zip_99']),\n",
       " ('remainder', 'drop', [0, 7])]"
      ]
     },
     "execution_count": 51,
     "metadata": {},
     "output_type": "execute_result"
    }
   ],
   "source": [
    "full_pipe.transformers_"
   ]
  },
  {
   "cell_type": "code",
   "execution_count": 52,
   "metadata": {},
   "outputs": [],
   "source": [
    "numerical_features = full_pipe.transformers_[0][2]"
   ]
  },
  {
   "cell_type": "code",
   "execution_count": 53,
   "metadata": {},
   "outputs": [],
   "source": [
    "one_hot_features = full_pipe.transformers_[1][1].get_feature_names().tolist()"
   ]
  },
  {
   "cell_type": "code",
   "execution_count": 54,
   "metadata": {},
   "outputs": [],
   "source": [
    "other_features = full_pipe.transformers_[2][2]"
   ]
  },
  {
   "cell_type": "code",
   "execution_count": 55,
   "metadata": {},
   "outputs": [
    {
     "data": {
      "text/plain": [
       "104"
      ]
     },
     "execution_count": 55,
     "metadata": {},
     "output_type": "execute_result"
    }
   ],
   "source": [
    "all_encoded_features = numerical_features+one_hot_features+other_features\n",
    "len(all_encoded_features)"
   ]
  },
  {
   "cell_type": "markdown",
   "metadata": {},
   "source": [
    "### Preparing test data"
   ]
  },
  {
   "cell_type": "code",
   "execution_count": 56,
   "metadata": {},
   "outputs": [],
   "source": [
    "from sklearn.preprocessing import LabelEncoder\n",
    "labelencode = LabelEncoder()\n",
    "y_test = labelencode.fit_transform(test_set[\"label\"])"
   ]
  },
  {
   "cell_type": "code",
   "execution_count": 57,
   "metadata": {},
   "outputs": [],
   "source": [
    "test_set = test_set.drop(['name','label'],axis=1)"
   ]
  },
  {
   "cell_type": "code",
   "execution_count": 58,
   "metadata": {
    "scrolled": true
   },
   "outputs": [
    {
     "data": {
      "text/plain": [
       "age              False\n",
       "lifestyle        False\n",
       "family status    False\n",
       "car              False\n",
       "sports           False\n",
       "                 ...  \n",
       "zip_95           False\n",
       "zip_96           False\n",
       "zip_97           False\n",
       "zip_98           False\n",
       "zip_99           False\n",
       "Length: 97, dtype: bool"
      ]
     },
     "execution_count": 58,
     "metadata": {},
     "output_type": "execute_result"
    }
   ],
   "source": [
    "from sklearn.impute import SimpleImputer\n",
    "imputer = SimpleImputer(strategy=\"most_frequent\")\n",
    "imputer.fit(test_set)\n",
    "X_test = imputer.transform(test_set)\n",
    "test_set=pd.DataFrame(X_test,columns=test_set.columns)\n",
    "test_set.isnull().any()"
   ]
  },
  {
   "cell_type": "code",
   "execution_count": 59,
   "metadata": {},
   "outputs": [
    {
     "data": {
      "text/plain": [
       "array([-0.9350511182396769, 1.7170406150647433, 1.0, 0.0, 0.0, 1.0, 0.0,\n",
       "       0.0, 0.0, 1.0, 0.0, 1.0, 0.0, 1.0, 0, 0, 0, 0, 0, 0, 0, 0, 0, 0, 0,\n",
       "       0, 0, 0, 0, 0, 0, 0, 0, 0, 1, 0, 0, 0, 0, 0, 0, 0, 0, 0, 0, 0, 0,\n",
       "       0, 0, 0, 0, 0, 0, 0, 0, 0, 0, 0, 0, 0, 0, 0, 0, 0, 0, 0, 0, 0, 0,\n",
       "       0, 0, 0, 0, 0, 0, 0, 0, 0, 0, 0, 0, 0, 0, 0, 0, 0, 0, 0, 0, 0, 0,\n",
       "       0, 0, 0, 0, 0, 0, 0, 0, 0, 0, 0, 0, 0], dtype=object)"
      ]
     },
     "execution_count": 59,
     "metadata": {},
     "output_type": "execute_result"
    }
   ],
   "source": [
    "with warnings.catch_warnings():\n",
    "    # ignore all caught warnings\n",
    "    warnings.filterwarnings(\"ignore\")\n",
    "    \n",
    "    X_test = full_pipe.fit_transform(test_set)\n",
    "\n",
    "X_test[0,:]"
   ]
  },
  {
   "cell_type": "code",
   "execution_count": 60,
   "metadata": {},
   "outputs": [
    {
     "data": {
      "text/plain": [
       "(2000, 104)"
      ]
     },
     "execution_count": 60,
     "metadata": {},
     "output_type": "execute_result"
    }
   ],
   "source": [
    "X_test.shape"
   ]
  },
  {
   "cell_type": "code",
   "execution_count": 61,
   "metadata": {},
   "outputs": [
    {
     "data": {
      "text/plain": [
       "(2000,)"
      ]
     },
     "execution_count": 61,
     "metadata": {},
     "output_type": "execute_result"
    }
   ],
   "source": [
    "y_test.shape"
   ]
  },
  {
   "cell_type": "code",
   "execution_count": 62,
   "metadata": {
    "scrolled": true
   },
   "outputs": [
    {
     "data": {
      "text/plain": [
       "array([0, 1])"
      ]
     },
     "execution_count": 62,
     "metadata": {},
     "output_type": "execute_result"
    }
   ],
   "source": [
    "np.unique(y_test)"
   ]
  },
  {
   "cell_type": "markdown",
   "metadata": {},
   "source": [
    "#### Confusion matrix function"
   ]
  },
  {
   "cell_type": "code",
   "execution_count": 63,
   "metadata": {},
   "outputs": [],
   "source": [
    "def confuse_mat(y,y_p):\n",
    "    from sklearn.metrics import confusion_matrix\n",
    "    cf = confusion_matrix(y, y_p)\n",
    "    print(\"Confusion matrix:\\n\",cf)\n",
    "    print(\"No: of instances with correct classification:\\n\",\n",
    "          cf[0,0],\"+\",cf[1,1],\"=\",cf[0,0]+cf[1,1],\"(out of\",y.shape[0],\"instances)\")"
   ]
  },
  {
   "cell_type": "markdown",
   "metadata": {},
   "source": [
    "## Model Fitting"
   ]
  },
  {
   "cell_type": "markdown",
   "metadata": {},
   "source": [
    "### Linear models with Stochastic gradient descent training"
   ]
  },
  {
   "cell_type": "code",
   "execution_count": 64,
   "metadata": {
    "scrolled": false
   },
   "outputs": [
    {
     "data": {
      "text/plain": [
       "0.7773649752116869"
      ]
     },
     "execution_count": 64,
     "metadata": {},
     "output_type": "execute_result"
    }
   ],
   "source": [
    "# SGDClassifier\n",
    "\n",
    "warnings.filterwarnings('ignore')\n",
    "\n",
    "from sklearn.linear_model import SGDClassifier\n",
    "sgd_clf = SGDClassifier(loss='hinge',random_state=10)\n",
    "sgd_clf.fit(X_train, y_train)\n",
    "\n",
    "from sklearn.model_selection import cross_val_score\n",
    "accuracies = cross_val_score(sgd_clf, X_train, y_train, cv=7, scoring=\"accuracy\") # gives accuracies for each fold\n",
    "accuracies.mean()"
   ]
  },
  {
   "cell_type": "code",
   "execution_count": 65,
   "metadata": {},
   "outputs": [
    {
     "name": "stdout",
     "output_type": "stream",
     "text": [
      "[0 1]\n",
      "Confusion matrix:\n",
      " [[4273 1030]\n",
      " [ 751 1946]]\n",
      "No: of instances with correct classification:\n",
      " 4273 + 1946 = 6219 (out of 8000 instances)\n"
     ]
    }
   ],
   "source": [
    "warnings.filterwarnings('ignore')\n",
    "\n",
    "from sklearn.model_selection import cross_val_predict\n",
    "y_train_pred = cross_val_predict(sgd_clf, X_train, y_train, cv=7)\n",
    "print(np.unique(y_train_pred))\n",
    "\n",
    "confuse_mat(y_train, y_train_pred)"
   ]
  },
  {
   "cell_type": "markdown",
   "metadata": {},
   "source": [
    "#### Hyperparameter tuning for SGD classifier"
   ]
  },
  {
   "cell_type": "code",
   "execution_count": 66,
   "metadata": {},
   "outputs": [
    {
     "data": {
      "text/plain": [
       "GridSearchCV(cv=7, error_score='raise-deprecating',\n",
       "       estimator=SGDClassifier(alpha=0.0001, average=False, class_weight=None,\n",
       "       early_stopping=False, epsilon=0.1, eta0=0.0, fit_intercept=True,\n",
       "       l1_ratio=0.15, learning_rate='optimal', loss='hinge', max_iter=None,\n",
       "       n_iter=None, n_iter_no_change=5, n_jobs=None, penalty='l2',\n",
       "       power_t=0.5, random_state=10, shuffle=True, tol=None,\n",
       "       validation_fraction=0.1, verbose=0, warm_start=False),\n",
       "       fit_params=None, iid='warn', n_jobs=None,\n",
       "       param_grid={'loss': ['hinge', 'log', 'modified_huber', 'squared_hinge', 'perceptron'], 'class_weight': ['balanced', None, {0: 2, 1: 1}, {0: 3, 1: 1}, {0: 1, 1: 2}], 'penalty': ['l2', 'l1', 'elasticnet'], 'alpha': [0.0001, 0.1, 0.4, 0.45, 0.5, 1, 2], 'learning_rate': ['optimal']},\n",
       "       pre_dispatch='2*n_jobs', refit=True, return_train_score='warn',\n",
       "       scoring=None, verbose=0)"
      ]
     },
     "execution_count": 66,
     "metadata": {},
     "output_type": "execute_result"
    }
   ],
   "source": [
    "from sklearn.model_selection import GridSearchCV\n",
    "\n",
    "param_grid = {'loss':['hinge', 'log','modified_huber','squared_hinge', 'perceptron'],\n",
    "              'class_weight':['balanced',None,{0:2,1:1},{0:3,1:1},{0:1,1:2}],\n",
    "              'penalty':['l2', 'l1', 'elasticnet'],\n",
    "              'alpha':[0.0001,0.1,0.4,0.45,0.5,1,2],\n",
    "              'learning_rate':['optimal']} \n",
    "\n",
    "grid_search = GridSearchCV(sgd_clf, param_grid , cv=7)\n",
    "grid_search.fit(X_train, y_train)"
   ]
  },
  {
   "cell_type": "code",
   "execution_count": 67,
   "metadata": {},
   "outputs": [
    {
     "data": {
      "text/plain": [
       "{'alpha': 0.1,\n",
       " 'class_weight': None,\n",
       " 'learning_rate': 'optimal',\n",
       " 'loss': 'hinge',\n",
       " 'penalty': 'l1'}"
      ]
     },
     "execution_count": 67,
     "metadata": {},
     "output_type": "execute_result"
    }
   ],
   "source": [
    "grid_search.best_params_"
   ]
  },
  {
   "cell_type": "code",
   "execution_count": 68,
   "metadata": {},
   "outputs": [
    {
     "data": {
      "text/plain": [
       "SGDClassifier(alpha=0.1, average=False, class_weight=None,\n",
       "       early_stopping=False, epsilon=0.1, eta0=0.0, fit_intercept=True,\n",
       "       l1_ratio=0.15, learning_rate='optimal', loss='hinge', max_iter=None,\n",
       "       n_iter=None, n_iter_no_change=5, n_jobs=None, penalty='l1',\n",
       "       power_t=0.5, random_state=10, shuffle=True, tol=None,\n",
       "       validation_fraction=0.1, verbose=0, warm_start=False)"
      ]
     },
     "execution_count": 68,
     "metadata": {},
     "output_type": "execute_result"
    }
   ],
   "source": [
    "model = grid_search.best_estimator_\n",
    "model"
   ]
  },
  {
   "cell_type": "code",
   "execution_count": 69,
   "metadata": {},
   "outputs": [
    {
     "name": "stdout",
     "output_type": "stream",
     "text": [
      "Training accuracy: 0.792357805623725\n",
      "[0 1]\n",
      "Confusion matrix:\n",
      " [[4927  376]\n",
      " [1285 1412]]\n",
      "No: of instances with correct classification:\n",
      " 4927 + 1412 = 6339 (out of 8000 instances)\n"
     ]
    }
   ],
   "source": [
    "warnings.filterwarnings('ignore')\n",
    "\n",
    "from sklearn.model_selection import cross_val_score\n",
    "accuracies = cross_val_score(model, X_train, y_train, cv=6) # gives accuracies for each fold\n",
    "print(\"Training accuracy:\",accuracies.mean())\n",
    "\n",
    "from sklearn.model_selection import cross_val_predict\n",
    "y_train_pred = cross_val_predict(model, X_train, y_train, cv=6)\n",
    "print(np.unique(y_train_pred))\n",
    "\n",
    "confuse_mat(y_train, y_train_pred)"
   ]
  },
  {
   "cell_type": "code",
   "execution_count": 70,
   "metadata": {
    "scrolled": true
   },
   "outputs": [
    {
     "name": "stdout",
     "output_type": "stream",
     "text": [
      "[0 1]\n",
      "Confusion matrix:\n",
      " [[1197  140]\n",
      " [ 201  462]]\n",
      "No: of instances with correct classification:\n",
      " 1197 + 462 = 1659 (out of 2000 instances)\n"
     ]
    }
   ],
   "source": [
    "y_test_pred = model.predict(X_test)\n",
    "print(np.unique(y_test_pred))\n",
    "confuse_mat(y_test, y_test_pred)"
   ]
  },
  {
   "cell_type": "code",
   "execution_count": 71,
   "metadata": {},
   "outputs": [
    {
     "data": {
      "text/plain": [
       "0.8295"
      ]
     },
     "execution_count": 71,
     "metadata": {},
     "output_type": "execute_result"
    }
   ],
   "source": [
    "from sklearn.metrics import accuracy_score\n",
    "accuracy_score(y_test, y_test_pred)"
   ]
  },
  {
   "cell_type": "markdown",
   "metadata": {},
   "source": [
    "### Random forests"
   ]
  },
  {
   "cell_type": "code",
   "execution_count": 72,
   "metadata": {},
   "outputs": [
    {
     "data": {
      "text/plain": [
       "0.917373442763692"
      ]
     },
     "execution_count": 72,
     "metadata": {},
     "output_type": "execute_result"
    }
   ],
   "source": [
    "warnings.filterwarnings('ignore')\n",
    "\n",
    "from sklearn.ensemble import RandomForestClassifier\n",
    "forest_clf = RandomForestClassifier(n_estimators=10,max_depth=10,max_features=104, criterion='entropy', random_state=9)\n",
    "forest_clf.fit(X_train, y_train)\n",
    "\n",
    "from sklearn.model_selection import cross_val_score\n",
    "accuracies = cross_val_score(forest_clf, X_train, y_train, cv=6) # gives accuracies for each fold\n",
    "accuracies.mean()"
   ]
  },
  {
   "cell_type": "code",
   "execution_count": 73,
   "metadata": {},
   "outputs": [
    {
     "name": "stdout",
     "output_type": "stream",
     "text": [
      "[0 1]\n",
      "Confusion matrix:\n",
      " [[4925  378]\n",
      " [ 283 2414]]\n",
      "No: of instances with correct classification:\n",
      " 4925 + 2414 = 7339 (out of 8000 instances)\n"
     ]
    }
   ],
   "source": [
    "warnings.filterwarnings('ignore')\n",
    "\n",
    "from sklearn.model_selection import cross_val_predict\n",
    "y_train_pred = cross_val_predict(forest_clf, X_train, y_train, cv=6)\n",
    "print(np.unique(y_train_pred))\n",
    "\n",
    "confuse_mat(y_train, y_train_pred)"
   ]
  },
  {
   "cell_type": "code",
   "execution_count": 74,
   "metadata": {},
   "outputs": [
    {
     "data": {
      "text/plain": [
       "array([4.84268757e-01, 2.62181708e-01, 1.96879704e-03, 3.14186906e-03,\n",
       "       2.21635691e-03, 3.48617504e-03, 2.22383934e-03, 4.05545292e-03,\n",
       "       2.11062345e-03, 2.70726447e-03, 1.41249509e-03, 1.86013012e-03,\n",
       "       2.21314724e-03, 2.20419451e-03, 3.85923788e-02, 3.87042190e-02,\n",
       "       3.97587300e-02, 3.03009350e-02, 3.58305699e-02, 2.17700788e-04,\n",
       "       8.67940189e-04, 7.10110913e-04, 1.19809204e-03, 1.01908669e-04,\n",
       "       0.00000000e+00, 7.18554702e-04, 0.00000000e+00, 3.80271825e-04,\n",
       "       0.00000000e+00, 4.70875967e-04, 9.94720367e-04, 2.08362839e-04,\n",
       "       0.00000000e+00, 7.67159850e-05, 2.55947130e-04, 2.36967892e-04,\n",
       "       2.02643891e-04, 9.18913312e-05, 1.56456276e-03, 0.00000000e+00,\n",
       "       3.62169824e-04, 3.48568221e-04, 6.67112672e-04, 5.03084659e-04,\n",
       "       2.98067927e-04, 1.40131656e-03, 2.10963037e-04, 9.42742648e-05,\n",
       "       1.76201272e-04, 3.76808252e-04, 9.22098423e-04, 4.73857785e-04,\n",
       "       2.31046714e-04, 1.39639389e-04, 4.71172836e-04, 8.21701813e-04,\n",
       "       9.13518651e-05, 0.00000000e+00, 9.97355719e-04, 1.30684842e-03,\n",
       "       1.97999857e-04, 6.86964468e-04, 0.00000000e+00, 3.95881985e-04,\n",
       "       1.31759790e-03, 5.56587672e-04, 2.18202275e-04, 2.37630013e-04,\n",
       "       2.64947668e-04, 9.80011813e-04, 3.24060963e-04, 1.06665437e-03,\n",
       "       1.01268155e-04, 1.23978868e-03, 2.48584192e-04, 2.97227443e-04,\n",
       "       5.51326457e-04, 8.27965473e-04, 0.00000000e+00, 1.19982752e-03,\n",
       "       0.00000000e+00, 2.66832648e-04, 7.63856659e-05, 2.38402297e-04,\n",
       "       1.50361336e-03, 9.02355913e-04, 0.00000000e+00, 5.59394239e-04,\n",
       "       2.14883256e-04, 1.34841301e-03, 1.16455440e-04, 1.94256870e-04,\n",
       "       8.00090189e-04, 1.47353663e-04, 4.54719443e-04, 9.88107356e-04,\n",
       "       1.33941608e-03, 2.79835458e-04, 5.43628305e-04, 3.31968127e-04,\n",
       "       4.23016461e-04, 1.07015436e-04, 0.00000000e+00, 1.02278013e-03])"
      ]
     },
     "execution_count": 74,
     "metadata": {},
     "output_type": "execute_result"
    }
   ],
   "source": [
    "forest_clf.feature_importances_"
   ]
  },
  {
   "cell_type": "code",
   "execution_count": 75,
   "metadata": {},
   "outputs": [],
   "source": [
    "pd.set_option('display.max_rows', 10)"
   ]
  },
  {
   "cell_type": "code",
   "execution_count": 76,
   "metadata": {},
   "outputs": [
    {
     "data": {
      "text/html": [
       "<div>\n",
       "<style scoped>\n",
       "    .dataframe tbody tr th:only-of-type {\n",
       "        vertical-align: middle;\n",
       "    }\n",
       "\n",
       "    .dataframe tbody tr th {\n",
       "        vertical-align: top;\n",
       "    }\n",
       "\n",
       "    .dataframe thead th {\n",
       "        text-align: right;\n",
       "    }\n",
       "</style>\n",
       "<table border=\"1\" class=\"dataframe\">\n",
       "  <thead>\n",
       "    <tr style=\"text-align: right;\">\n",
       "      <th></th>\n",
       "      <th>0</th>\n",
       "    </tr>\n",
       "  </thead>\n",
       "  <tbody>\n",
       "    <tr>\n",
       "      <th>age</th>\n",
       "      <td>0.484269</td>\n",
       "    </tr>\n",
       "    <tr>\n",
       "      <th>earnings</th>\n",
       "      <td>0.262182</td>\n",
       "    </tr>\n",
       "    <tr>\n",
       "      <th>zip_12</th>\n",
       "      <td>0.039759</td>\n",
       "    </tr>\n",
       "    <tr>\n",
       "      <th>zip_11</th>\n",
       "      <td>0.038704</td>\n",
       "    </tr>\n",
       "    <tr>\n",
       "      <th>zip_10</th>\n",
       "      <td>0.038592</td>\n",
       "    </tr>\n",
       "    <tr>\n",
       "      <th>...</th>\n",
       "      <td>...</td>\n",
       "    </tr>\n",
       "    <tr>\n",
       "      <th>zip_82</th>\n",
       "      <td>0.000000</td>\n",
       "    </tr>\n",
       "    <tr>\n",
       "      <th>zip_53</th>\n",
       "      <td>0.000000</td>\n",
       "    </tr>\n",
       "    <tr>\n",
       "      <th>zip_58</th>\n",
       "      <td>0.000000</td>\n",
       "    </tr>\n",
       "    <tr>\n",
       "      <th>zip_76</th>\n",
       "      <td>0.000000</td>\n",
       "    </tr>\n",
       "    <tr>\n",
       "      <th>zip_20</th>\n",
       "      <td>0.000000</td>\n",
       "    </tr>\n",
       "  </tbody>\n",
       "</table>\n",
       "<p>104 rows × 1 columns</p>\n",
       "</div>"
      ],
      "text/plain": [
       "                 0\n",
       "age       0.484269\n",
       "earnings  0.262182\n",
       "zip_12    0.039759\n",
       "zip_11    0.038704\n",
       "zip_10    0.038592\n",
       "...            ...\n",
       "zip_82    0.000000\n",
       "zip_53    0.000000\n",
       "zip_58    0.000000\n",
       "zip_76    0.000000\n",
       "zip_20    0.000000\n",
       "\n",
       "[104 rows x 1 columns]"
      ]
     },
     "execution_count": 76,
     "metadata": {},
     "output_type": "execute_result"
    }
   ],
   "source": [
    "# train_set.columns.tolist()\n",
    "\n",
    "important_features = pd.DataFrame(forest_clf.feature_importances_,index=all_encoded_features)\n",
    "important_features.sort_values(0,axis=0,ascending=False)"
   ]
  },
  {
   "cell_type": "code",
   "execution_count": 77,
   "metadata": {},
   "outputs": [
    {
     "data": {
      "text/html": [
       "<div>\n",
       "<style scoped>\n",
       "    .dataframe tbody tr th:only-of-type {\n",
       "        vertical-align: middle;\n",
       "    }\n",
       "\n",
       "    .dataframe tbody tr th {\n",
       "        vertical-align: top;\n",
       "    }\n",
       "\n",
       "    .dataframe thead th {\n",
       "        text-align: right;\n",
       "    }\n",
       "</style>\n",
       "<table border=\"1\" class=\"dataframe\">\n",
       "  <thead>\n",
       "    <tr style=\"text-align: right;\">\n",
       "      <th></th>\n",
       "      <th>0</th>\n",
       "    </tr>\n",
       "  </thead>\n",
       "  <tbody>\n",
       "    <tr>\n",
       "      <th>age</th>\n",
       "      <td>0.484269</td>\n",
       "    </tr>\n",
       "    <tr>\n",
       "      <th>earnings</th>\n",
       "      <td>0.262182</td>\n",
       "    </tr>\n",
       "    <tr>\n",
       "      <th>x0_active</th>\n",
       "      <td>0.001969</td>\n",
       "    </tr>\n",
       "    <tr>\n",
       "      <th>x0_cozily</th>\n",
       "      <td>0.003142</td>\n",
       "    </tr>\n",
       "    <tr>\n",
       "      <th>x0_healthy</th>\n",
       "      <td>0.002216</td>\n",
       "    </tr>\n",
       "    <tr>\n",
       "      <th>...</th>\n",
       "      <td>...</td>\n",
       "    </tr>\n",
       "    <tr>\n",
       "      <th>zip_95</th>\n",
       "      <td>0.000332</td>\n",
       "    </tr>\n",
       "    <tr>\n",
       "      <th>zip_96</th>\n",
       "      <td>0.000423</td>\n",
       "    </tr>\n",
       "    <tr>\n",
       "      <th>zip_97</th>\n",
       "      <td>0.000107</td>\n",
       "    </tr>\n",
       "    <tr>\n",
       "      <th>zip_98</th>\n",
       "      <td>0.000000</td>\n",
       "    </tr>\n",
       "    <tr>\n",
       "      <th>zip_99</th>\n",
       "      <td>0.001023</td>\n",
       "    </tr>\n",
       "  </tbody>\n",
       "</table>\n",
       "<p>104 rows × 1 columns</p>\n",
       "</div>"
      ],
      "text/plain": [
       "                   0\n",
       "age         0.484269\n",
       "earnings    0.262182\n",
       "x0_active   0.001969\n",
       "x0_cozily   0.003142\n",
       "x0_healthy  0.002216\n",
       "...              ...\n",
       "zip_95      0.000332\n",
       "zip_96      0.000423\n",
       "zip_97      0.000107\n",
       "zip_98      0.000000\n",
       "zip_99      0.001023\n",
       "\n",
       "[104 rows x 1 columns]"
      ]
     },
     "execution_count": 77,
     "metadata": {},
     "output_type": "execute_result"
    }
   ],
   "source": [
    "important_features"
   ]
  },
  {
   "cell_type": "markdown",
   "metadata": {},
   "source": [
    "#### Hyperparameter tuning for Random forest classification: "
   ]
  },
  {
   "cell_type": "code",
   "execution_count": 78,
   "metadata": {},
   "outputs": [
    {
     "data": {
      "text/plain": [
       "GridSearchCV(cv=6, error_score='raise-deprecating',\n",
       "       estimator=RandomForestClassifier(bootstrap=True, class_weight=None, criterion='entropy',\n",
       "            max_depth=10, max_features=104, max_leaf_nodes=None,\n",
       "            min_impurity_decrease=0.0, min_impurity_split=None,\n",
       "            min_samples_leaf=1, min_samples_split=2,\n",
       "            min_weight_fraction_leaf=0.0, n_estimators=10, n_jobs=None,\n",
       "            oob_score=False, random_state=9, verbose=0, warm_start=False),\n",
       "       fit_params=None, iid='warn', n_jobs=None,\n",
       "       param_grid=[{'n_estimators': [3, 10, 50, 70, 90, 100, 200], 'max_features': [10, 50, 104], 'min_samples_leaf': [1, 2, 3], 'max_depth': [10, 50, 70, 90]}, {'bootstrap': [False], 'n_estimators': [3, 10, 50, 70, 90], 'min_samples_leaf': [1, 2], 'max_features': [10, 50, 104]}],\n",
       "       pre_dispatch='2*n_jobs', refit=True, return_train_score='warn',\n",
       "       scoring=None, verbose=0)"
      ]
     },
     "execution_count": 78,
     "metadata": {},
     "output_type": "execute_result"
    }
   ],
   "source": [
    "from sklearn.model_selection import GridSearchCV\n",
    "\n",
    "param_grid = [{'n_estimators': [3,10,50,70,90,100,200],'max_features': [10,50,104],'min_samples_leaf':[1,2,3],'max_depth': [10,50,70,90]},\n",
    "              {'bootstrap': [False], 'n_estimators': [3,10,50,70,90], 'min_samples_leaf':[1,2],'max_features': [10,50,104]}]\n",
    " \n",
    "grid_search = GridSearchCV(forest_clf, param_grid , cv=6)\n",
    "grid_search.fit(X_train, y_train)"
   ]
  },
  {
   "cell_type": "code",
   "execution_count": 79,
   "metadata": {},
   "outputs": [
    {
     "data": {
      "text/plain": [
       "{'max_depth': 50,\n",
       " 'max_features': 10,\n",
       " 'min_samples_leaf': 2,\n",
       " 'n_estimators': 200}"
      ]
     },
     "execution_count": 79,
     "metadata": {},
     "output_type": "execute_result"
    }
   ],
   "source": [
    "grid_search.best_params_"
   ]
  },
  {
   "cell_type": "code",
   "execution_count": 80,
   "metadata": {},
   "outputs": [],
   "source": [
    "model = grid_search.best_estimator_"
   ]
  },
  {
   "cell_type": "code",
   "execution_count": 81,
   "metadata": {},
   "outputs": [
    {
     "data": {
      "text/plain": [
       "array([0.48984965, 0.22220514, 0.00722794, 0.0075765 , 0.00735358,\n",
       "       0.00679052, 0.00617914, 0.00624244, 0.00606179, 0.00625283,\n",
       "       0.00696887, 0.00708487, 0.00643372, 0.00634429, 0.02397727,\n",
       "       0.02519708, 0.0254692 , 0.01608109, 0.02178055, 0.000889  ,\n",
       "       0.00110007, 0.00134134, 0.00094094, 0.00115359, 0.00112186,\n",
       "       0.0011772 , 0.00106004, 0.00103409, 0.0009268 , 0.00104593,\n",
       "       0.0010609 , 0.00111918, 0.0011114 , 0.0006258 , 0.00116836,\n",
       "       0.00094548, 0.0011735 , 0.00095831, 0.0019124 , 0.00074143,\n",
       "       0.00099345, 0.00124349, 0.00182069, 0.00085079, 0.00129133,\n",
       "       0.0011888 , 0.00148792, 0.0012757 , 0.00079725, 0.00119444,\n",
       "       0.0010402 , 0.00112816, 0.00119306, 0.0008639 , 0.00085215,\n",
       "       0.00106801, 0.00092649, 0.00079312, 0.00137289, 0.00101305,\n",
       "       0.000791  , 0.00087707, 0.00113023, 0.0009186 , 0.00154621,\n",
       "       0.00116132, 0.001087  , 0.00102393, 0.00092101, 0.00122721,\n",
       "       0.00134492, 0.00109577, 0.00077089, 0.00179831, 0.00104599,\n",
       "       0.00122041, 0.00074747, 0.00149763, 0.00083667, 0.00145375,\n",
       "       0.00111242, 0.00110884, 0.00105126, 0.00103508, 0.00136009,\n",
       "       0.00099976, 0.00084886, 0.00113449, 0.00100983, 0.00130497,\n",
       "       0.00114852, 0.00098975, 0.00167961, 0.00084067, 0.00162849,\n",
       "       0.00158527, 0.00135266, 0.00103643, 0.00114163, 0.00093948,\n",
       "       0.00087038, 0.00087165, 0.00126893, 0.00110652])"
      ]
     },
     "execution_count": 81,
     "metadata": {},
     "output_type": "execute_result"
    }
   ],
   "source": [
    "model.feature_importances_"
   ]
  },
  {
   "cell_type": "code",
   "execution_count": 82,
   "metadata": {},
   "outputs": [
    {
     "data": {
      "text/html": [
       "<div>\n",
       "<style scoped>\n",
       "    .dataframe tbody tr th:only-of-type {\n",
       "        vertical-align: middle;\n",
       "    }\n",
       "\n",
       "    .dataframe tbody tr th {\n",
       "        vertical-align: top;\n",
       "    }\n",
       "\n",
       "    .dataframe thead th {\n",
       "        text-align: right;\n",
       "    }\n",
       "</style>\n",
       "<table border=\"1\" class=\"dataframe\">\n",
       "  <thead>\n",
       "    <tr style=\"text-align: right;\">\n",
       "      <th></th>\n",
       "      <th>0</th>\n",
       "    </tr>\n",
       "  </thead>\n",
       "  <tbody>\n",
       "    <tr>\n",
       "      <th>age</th>\n",
       "      <td>0.489850</td>\n",
       "    </tr>\n",
       "    <tr>\n",
       "      <th>earnings</th>\n",
       "      <td>0.222205</td>\n",
       "    </tr>\n",
       "    <tr>\n",
       "      <th>zip_12</th>\n",
       "      <td>0.025469</td>\n",
       "    </tr>\n",
       "    <tr>\n",
       "      <th>zip_11</th>\n",
       "      <td>0.025197</td>\n",
       "    </tr>\n",
       "    <tr>\n",
       "      <th>zip_10</th>\n",
       "      <td>0.023977</td>\n",
       "    </tr>\n",
       "    <tr>\n",
       "      <th>...</th>\n",
       "      <td>...</td>\n",
       "    </tr>\n",
       "    <tr>\n",
       "      <th>zip_56</th>\n",
       "      <td>0.000791</td>\n",
       "    </tr>\n",
       "    <tr>\n",
       "      <th>zip_68</th>\n",
       "      <td>0.000771</td>\n",
       "    </tr>\n",
       "    <tr>\n",
       "      <th>zip_72</th>\n",
       "      <td>0.000747</td>\n",
       "    </tr>\n",
       "    <tr>\n",
       "      <th>zip_35</th>\n",
       "      <td>0.000741</td>\n",
       "    </tr>\n",
       "    <tr>\n",
       "      <th>zip_29</th>\n",
       "      <td>0.000626</td>\n",
       "    </tr>\n",
       "  </tbody>\n",
       "</table>\n",
       "<p>104 rows × 1 columns</p>\n",
       "</div>"
      ],
      "text/plain": [
       "                 0\n",
       "age       0.489850\n",
       "earnings  0.222205\n",
       "zip_12    0.025469\n",
       "zip_11    0.025197\n",
       "zip_10    0.023977\n",
       "...            ...\n",
       "zip_56    0.000791\n",
       "zip_68    0.000771\n",
       "zip_72    0.000747\n",
       "zip_35    0.000741\n",
       "zip_29    0.000626\n",
       "\n",
       "[104 rows x 1 columns]"
      ]
     },
     "execution_count": 82,
     "metadata": {},
     "output_type": "execute_result"
    }
   ],
   "source": [
    "# train_set.columns.tolist()\n",
    "\n",
    "important_features = pd.DataFrame(model.feature_importances_,index=all_encoded_features)\n",
    "important_features.sort_values(0,axis=0,ascending=False)"
   ]
  },
  {
   "cell_type": "code",
   "execution_count": 83,
   "metadata": {},
   "outputs": [
    {
     "name": "stdout",
     "output_type": "stream",
     "text": [
      "Accuracy: 0.9203738190300329\n",
      "Confusion matrix:\n",
      " [[4920  383]\n",
      " [ 254 2443]]\n",
      "No: of instances with correct classification:\n",
      " 4920 + 2443 = 7363 (out of 8000 instances)\n"
     ]
    }
   ],
   "source": [
    "warnings.filterwarnings('ignore')\n",
    "\n",
    "from sklearn.model_selection import cross_val_score\n",
    "accuracies = cross_val_score(model, X_train, y_train, cv=6) # gives accuracies for each fold\n",
    "print(\"Accuracy:\",accuracies.mean())\n",
    "\n",
    "from sklearn.model_selection import cross_val_predict\n",
    "y_train_pred = cross_val_predict(model, X_train, y_train, cv=6)\n",
    "\n",
    "confuse_mat(y_train, y_train_pred)"
   ]
  },
  {
   "cell_type": "code",
   "execution_count": 84,
   "metadata": {},
   "outputs": [
    {
     "name": "stdout",
     "output_type": "stream",
     "text": [
      "[0 1]\n",
      "Confusion matrix:\n",
      " [[1247   90]\n",
      " [  85  578]]\n",
      "No: of instances with correct classification:\n",
      " 1247 + 578 = 1825 (out of 2000 instances)\n"
     ]
    }
   ],
   "source": [
    "y_test_pred = model.predict(X_test)\n",
    "print(np.unique(y_test_pred))\n",
    "confuse_mat(y_test, y_test_pred)"
   ]
  },
  {
   "cell_type": "code",
   "execution_count": 85,
   "metadata": {},
   "outputs": [
    {
     "data": {
      "text/plain": [
       "0.9125"
      ]
     },
     "execution_count": 85,
     "metadata": {},
     "output_type": "execute_result"
    }
   ],
   "source": [
    "from sklearn.metrics import accuracy_score\n",
    "accuracy_score(y_test, y_test_pred)"
   ]
  },
  {
   "cell_type": "markdown",
   "metadata": {},
   "source": [
    "### Logistic Regression"
   ]
  },
  {
   "cell_type": "code",
   "execution_count": 86,
   "metadata": {},
   "outputs": [
    {
     "data": {
      "text/plain": [
       "0.8168753821377622"
      ]
     },
     "execution_count": 86,
     "metadata": {},
     "output_type": "execute_result"
    }
   ],
   "source": [
    "warnings.filterwarnings('ignore')\n",
    "\n",
    "from sklearn.linear_model import LogisticRegression\n",
    "logistic_clf = LogisticRegression(random_state=0)\n",
    "logistic_clf.fit(X_train, y_train)\n",
    "\n",
    "from sklearn.model_selection import cross_val_score\n",
    "accuracies = cross_val_score(logistic_clf, X_train, y_train, cv=6) # gives accuracies for each fold\n",
    "accuracies.mean()"
   ]
  },
  {
   "cell_type": "code",
   "execution_count": 87,
   "metadata": {},
   "outputs": [
    {
     "name": "stdout",
     "output_type": "stream",
     "text": [
      "[0 1]\n",
      "Confusion matrix:\n",
      " [[4720  583]\n",
      " [ 882 1815]]\n",
      "No: of instances with correct classification:\n",
      " 4720 + 1815 = 6535 (out of 8000 instances)\n"
     ]
    }
   ],
   "source": [
    "warnings.filterwarnings('ignore')\n",
    "\n",
    "from sklearn.model_selection import cross_val_predict\n",
    "y_train_pred = cross_val_predict(logistic_clf, X_train, y_train, cv=6)\n",
    "print(np.unique(y_train_pred))\n",
    "\n",
    "confuse_mat(y_train, y_train_pred)"
   ]
  },
  {
   "cell_type": "markdown",
   "metadata": {},
   "source": [
    "#### Hyperparameter tuning for Logistic Regression"
   ]
  },
  {
   "cell_type": "code",
   "execution_count": 88,
   "metadata": {},
   "outputs": [
    {
     "data": {
      "text/plain": [
       "GridSearchCV(cv=6, error_score='raise-deprecating',\n",
       "       estimator=LogisticRegression(C=1.0, class_weight=None, dual=False, fit_intercept=True,\n",
       "          intercept_scaling=1, max_iter=100, multi_class='warn',\n",
       "          n_jobs=None, penalty='l2', random_state=0, solver='warn',\n",
       "          tol=0.0001, verbose=0, warm_start=False),\n",
       "       fit_params=None, iid='warn', n_jobs=None,\n",
       "       param_grid=[{'C': [0.1, 0.25, 0.5, 1, 1.5, 2], 'class_weight': ['balanced', None, {0: 2, 1: 1}, {0: 3, 1: 1}, {0: 1, 1: 2}], 'penalty': ['l2'], 'dual': [True], 'solver': ['liblinear']}, {'C': [0.1, 0.25, 0.5, 1, 1.5, 2], 'class_weight': ['balanced', None, {0: 2, 1: 1}, {0: 3, 1: 1}, {0: 1, 1: 2}], '...1}, {0: 1, 1: 2}], 'penalty': ['l2'], 'solver': ['newton-cg', 'lbfgs', 'liblinear', 'sag', 'saga']}],\n",
       "       pre_dispatch='2*n_jobs', refit=True, return_train_score='warn',\n",
       "       scoring=None, verbose=0)"
      ]
     },
     "execution_count": 88,
     "metadata": {},
     "output_type": "execute_result"
    }
   ],
   "source": [
    "from sklearn.model_selection import GridSearchCV\n",
    "\n",
    "param_grid = [{'C':[0.1,0.25,0.5,1,1.5,2],\n",
    "              'class_weight':['balanced',None,{0:2,1:1},{0:3,1:1},{0:1,1:2}],\n",
    "              'penalty':['l2'],\n",
    "              'dual':[True],\n",
    "              'solver':['liblinear']},\n",
    "              {'C':[0.1,0.25,0.5,1,1.5,2],\n",
    "              'class_weight':['balanced',None,{0:2,1:1},{0:3,1:1},{0:1,1:2}],\n",
    "              'penalty':['l2', 'l1']},\n",
    "              {'C':[0.1,0.25,0.5,1,1.5,2],\n",
    "              'class_weight':['balanced',None,{0:2,1:1},{0:3,1:1},{0:1,1:2}],\n",
    "              'penalty':['l2'],\n",
    "              'solver':['newton-cg', 'lbfgs', 'liblinear', 'sag', 'saga']}]\n",
    "              \n",
    "\n",
    "grid_search = GridSearchCV(logistic_clf, param_grid , cv=6)\n",
    "grid_search.fit(X_train, y_train)"
   ]
  },
  {
   "cell_type": "code",
   "execution_count": 89,
   "metadata": {},
   "outputs": [
    {
     "data": {
      "text/plain": [
       "{'C': 0.25, 'class_weight': None, 'penalty': 'l1'}"
      ]
     },
     "execution_count": 89,
     "metadata": {},
     "output_type": "execute_result"
    }
   ],
   "source": [
    "grid_search.best_params_"
   ]
  },
  {
   "cell_type": "code",
   "execution_count": 90,
   "metadata": {},
   "outputs": [
    {
     "data": {
      "text/plain": [
       "LogisticRegression(C=0.25, class_weight=None, dual=False, fit_intercept=True,\n",
       "          intercept_scaling=1, max_iter=100, multi_class='warn',\n",
       "          n_jobs=None, penalty='l1', random_state=0, solver='warn',\n",
       "          tol=0.0001, verbose=0, warm_start=False)"
      ]
     },
     "execution_count": 90,
     "metadata": {},
     "output_type": "execute_result"
    }
   ],
   "source": [
    "model = grid_search.best_estimator_\n",
    "model"
   ]
  },
  {
   "cell_type": "code",
   "execution_count": 91,
   "metadata": {},
   "outputs": [
    {
     "name": "stdout",
     "output_type": "stream",
     "text": [
      "Training accuracy: 0.8205002576220006\n",
      "Confusion matrix:\n",
      " [[4733  570]\n",
      " [ 866 1831]]\n",
      "No: of instances with correct classification:\n",
      " 4733 + 1831 = 6564 (out of 8000 instances)\n"
     ]
    }
   ],
   "source": [
    "warnings.filterwarnings('ignore')\n",
    "\n",
    "from sklearn.model_selection import cross_val_score\n",
    "accuracies = cross_val_score(model, X_train, y_train, cv=6) # gives accuracies for each fold\n",
    "print(\"Training accuracy:\",accuracies.mean())\n",
    "\n",
    "from sklearn.model_selection import cross_val_predict\n",
    "y_train_pred = cross_val_predict(model, X_train, y_train, cv=6)\n",
    "\n",
    "confuse_mat(y_train, y_train_pred)"
   ]
  },
  {
   "cell_type": "code",
   "execution_count": 92,
   "metadata": {},
   "outputs": [
    {
     "name": "stdout",
     "output_type": "stream",
     "text": [
      "[0 1]\n",
      "Confusion matrix:\n",
      " [[1211  126]\n",
      " [ 217  446]]\n",
      "No: of instances with correct classification:\n",
      " 1211 + 446 = 1657 (out of 2000 instances)\n"
     ]
    }
   ],
   "source": [
    "y_test_pred = model.predict(X_test)\n",
    "print(np.unique(y_test_pred))\n",
    "confuse_mat(y_test, y_test_pred)"
   ]
  },
  {
   "cell_type": "code",
   "execution_count": 93,
   "metadata": {},
   "outputs": [
    {
     "data": {
      "text/plain": [
       "0.8285"
      ]
     },
     "execution_count": 93,
     "metadata": {},
     "output_type": "execute_result"
    }
   ],
   "source": [
    "from sklearn.metrics import accuracy_score\n",
    "accuracy_score(y_test, y_test_pred)"
   ]
  }
 ],
 "metadata": {
  "kernelspec": {
   "display_name": "Python 3",
   "language": "python",
   "name": "python3"
  },
  "language_info": {
   "codemirror_mode": {
    "name": "ipython",
    "version": 3
   },
   "file_extension": ".py",
   "mimetype": "text/x-python",
   "name": "python",
   "nbconvert_exporter": "python",
   "pygments_lexer": "ipython3",
   "version": "3.6.10"
  }
 },
 "nbformat": 4,
 "nbformat_minor": 4
}
